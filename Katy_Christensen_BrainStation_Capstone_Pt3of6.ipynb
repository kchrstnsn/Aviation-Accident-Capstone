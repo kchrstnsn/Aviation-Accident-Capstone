{
 "cells": [
  {
   "cell_type": "code",
   "execution_count": 1,
   "id": "6b9dc8ad",
   "metadata": {},
   "outputs": [],
   "source": [
    "#import relevant libraries\n",
    "import numpy as np\n",
    "import pandas as pd\n",
    "import matplotlib.pyplot as plt\n",
    "\n",
    "from scipy import stats\n",
    "\n",
    "%matplotlib inline\n",
    "\n",
    "from sklearn.pipeline import Pipeline\n",
    "from sklearn.model_selection import GridSearchCV\n",
    "\n",
    "from sklearn.model_selection import train_test_split\n",
    "\n",
    "from sklearn.preprocessing import StandardScaler\n",
    "from sklearn.decomposition import PCA\n",
    "from sklearn.linear_model import LogisticRegression\n",
    "\n",
    "import warnings\n",
    "warnings.filterwarnings('ignore')"
   ]
  },
  {
   "cell_type": "markdown",
   "id": "63e0da89",
   "metadata": {},
   "source": [
    "# Aviation Accident Capstone:\n",
    "## *Part III: Logistic Regression Model*\n",
    "Created by: Katy Christensen <br>\n",
    "Created on: September 26, 2022 <br>\n",
    "Created for: BrainStation Data Science Bootcamp Capstone<br>\n",
    "Notebook 3 of 6<br>\n",
    "\n",
    "Previous Notebook: *Part II: Pre-Processing & Dummy Variables* <br>\n",
    "Upcoming Notebook: *Part IV: Decision Tree Model*\n",
    "\n",
    "--------------\n",
    " ## Overview\n",
    " This is the first notebook where a model is applied. Logistic regressions are a classic supervised model and statistical model. Logistic models are senstive to collinearity, which is unfortuante since a collinearity test could not be run on the features. There was an effort to circumvent this issue by using Principal Component Analysis (PCA) which minimizes data dimensionality while trying to maintain variance, this will be discussed slightly more in-depth later. \n",
    "#### Methodology:\n",
    "1. Load the data and verify there are no issues with it. \n",
    "2. Once the data is loaded and checked, the data is split two times. Once into a train-test split, where 70% of the data is allocated to the training data and a second train-validation dataset, where 80% of the remaining training data is split into a smaller training set. \n",
    "3. A baseline model is applied, where no hyperparameters are changed on the secondary train data and tested against the validation set. \n",
    "4. Data transformation is accomplished by scaling data and using PCA. A logistic model is run again on the transformed data to determine if it improves the accuracy. \n",
    "5. Model tuning, or hyperparameter optimization, is the follow on step in which limits are placed into how the model is run. \n",
    "6. Once the model parameters and hyperparameters are finalized, the model is tested against the validation set and then applied to the final test dataset. \n",
    "7. A model evaluation can be peformed here, however for this project I chose to only evaulate the final selected model in the final notebook *Capstone Part VI*. \n",
    "---"
   ]
  },
  {
   "cell_type": "markdown",
   "id": "3a563560",
   "metadata": {},
   "source": [
    "## Table of Contents\n",
    "[1. Load Data & Review](#Step-1) <br>\n",
    "- [Load Data](#Step-1) <br>\n",
    "- [Data Balance](#data-balance) <br>\n",
    "\n",
    "[2. Splitting Data](#Step-2) <br>\n",
    "- [Train-Test Split](#test-split) <br>\n",
    "- [Train-Validation Split](#val-split)<br>\n",
    "\n",
    "[3. Baseline Logistic Regression ](#Step-3) <br>\n",
    "- [Coefficient Analysis](#coef) <br>\n",
    "\n",
    "[4. Transform Data](#Step-4)<br>\n",
    "- [Scale Data](#scaling) <br>\n",
    "- [Apply PCA](#pca)<br>\n",
    "\n",
    "[5. Hyperparamater Optimization](#Step-5)<br>\n",
    "[6. Test Model](#Step-5)<br>\n",
    "[7. Results & Summary](#Step-5)<br>"
   ]
  },
  {
   "cell_type": "markdown",
   "id": "b0365b7a",
   "metadata": {},
   "source": [
    "--------\n",
    "<a id='Step-1'></a>\n",
    "## 1. Load Data & Review\n",
    "--------\n",
    "### Load Data"
   ]
  },
  {
   "cell_type": "code",
   "execution_count": 2,
   "id": "5d7bf406",
   "metadata": {},
   "outputs": [],
   "source": [
    "ntsb08 = pd.read_csv('data/ntsb08_model.csv')"
   ]
  },
  {
   "cell_type": "code",
   "execution_count": 3,
   "id": "e9826d24",
   "metadata": {},
   "outputs": [],
   "source": [
    "X = ntsb08.drop(columns='ev_highest_injury')\n",
    "y = ntsb08['ev_highest_injury']"
   ]
  },
  {
   "cell_type": "markdown",
   "id": "e3b54887",
   "metadata": {},
   "source": [
    "<a id='data-balance'></a>\n",
    "### Data Balance"
   ]
  },
  {
   "cell_type": "code",
   "execution_count": 4,
   "id": "269c13d1",
   "metadata": {
    "scrolled": false
   },
   "outputs": [
    {
     "data": {
      "image/png": "[encoded data removed]",
      "text/plain": [
       "<Figure size 288x288 with 1 Axes>"
      ]
     },
     "metadata": {
      "needs_background": "light"
     },
     "output_type": "display_data"
    },
    {
     "name": "stdout",
     "output_type": "stream",
     "text": [
      "Train Class imbalance: [0.81 0.19]\n"
     ]
    }
   ],
   "source": [
    "values, counts = np.unique(y, return_counts=True)\n",
    "normalized_counts = counts/counts.sum()\n",
    "\n",
    "plt.figure(figsize=(4,4))\n",
    "plt.bar([\"0\", \"1\"], normalized_counts*100) # plot normalized counts\n",
    "\n",
    "#Format training data bar chart\n",
    "plt.title('y Data Balance')\n",
    "plt.xlabel('Accident Fatality')\n",
    "plt.ylabel('% of Accidents')\n",
    "plt.show()\n",
    "\n",
    "print(f\"Train Class imbalance: {np.round(normalized_counts, 2)}\")"
   ]
  },
  {
   "cell_type": "markdown",
   "id": "1d7ca8dd",
   "metadata": {},
   "source": [
    "**Comment:** This data is considered imbalanced since 81% of the accidents in the dataset are non-fatal. Imbalanced data causes concerns because it can change model performance. For now the data will remain imbalanced, but this is useful to make sure the class ratio is staying the same when splliting the data."
   ]
  },
  {
   "cell_type": "markdown",
   "id": "738ccf5e",
   "metadata": {},
   "source": [
    "------------\n",
    "<a id='Step-2'></a>\n",
    "## 2. Splitting the Data\n",
    "------------\n",
    "Splitting data is a technique we use to guard against overfitting. The model is initially fit on the training data and then evaluated against the test data. This helps create a model which can be used to make predictions on unseen data. The test data represents this potential new data and anticpate model performance on it. \n",
    "<a id='test-split'></a>\n",
    "### Train-Test Split\n",
    "A 70/30 split was used for all initial train-test splits in this project. The dataset was also stratified to ensure representative sampling."
   ]
  },
  {
   "cell_type": "code",
   "execution_count": 5,
   "id": "f829a076",
   "metadata": {},
   "outputs": [],
   "source": [
    "#Split the test into train (70%) and test (30%)\n",
    "X_train, X_test, y_train, y_test = train_test_split(X, y, test_size=0.3, random_state=3, stratify=y)"
   ]
  },
  {
   "cell_type": "code",
   "execution_count": 6,
   "id": "567857af",
   "metadata": {
    "scrolled": false
   },
   "outputs": [
    {
     "data": {
      "image/png": "[encoded data removed]",
      "text/plain": [
       "<Figure size 288x288 with 1 Axes>"
      ]
     },
     "metadata": {
      "needs_background": "light"
     },
     "output_type": "display_data"
    },
    {
     "name": "stdout",
     "output_type": "stream",
     "text": [
      "Train Class imbalance: [0.81 0.19]\n"
     ]
    }
   ],
   "source": [
    "values_train, counts_train = np.unique(y_train, return_counts=True)\n",
    "normalized_counts_train = counts_train/counts_train.sum()\n",
    "\n",
    "plt.figure(figsize=(4,4))\n",
    "plt.bar([\"0\", \"1\"], normalized_counts_train*100) # plot normalized counts\n",
    "\n",
    "#Format training data bar chart\n",
    "plt.title('y_train Data Balance')\n",
    "plt.xlabel('Accident Fatality')\n",
    "plt.ylabel('% of Accidents')\n",
    "labels = ['Non-Fatal', 'Fatal']\n",
    "\n",
    "plt.show()\n",
    "\n",
    "print(f\"Train Class imbalance: {np.round(normalized_counts_train, 2)}\")"
   ]
  },
  {
   "cell_type": "markdown",
   "id": "e2871b0d",
   "metadata": {},
   "source": [
    "<a id='val-split'></a>\n",
    "### Train-Validation Split\n",
    "Similar to the train-test split, the validation data provides data to evaluate the model as the model is optimized. It also helps guard against data leakage, which occurs when data from the test set \"leaks\" into the training data and causes overfitting. \n",
    "\n",
    "An 80/20 split was used for all train-validation splits."
   ]
  },
  {
   "cell_type": "code",
   "execution_count": 7,
   "id": "caf29b42",
   "metadata": {},
   "outputs": [],
   "source": [
    "#Split the test into train (80%) and test (20%)\n",
    "X_train2, X_val, y_train2, y_val = train_test_split(X_train, y_train, test_size=0.2, \n",
    "                                                    random_state=2, stratify=y_train)"
   ]
  },
  {
   "cell_type": "code",
   "execution_count": 8,
   "id": "d03b466d",
   "metadata": {
    "scrolled": true
   },
   "outputs": [
    {
     "data": {
      "image/png": "[encoded data removed]",
      "text/plain": [
       "<Figure size 288x288 with 1 Axes>"
      ]
     },
     "metadata": {
      "needs_background": "light"
     },
     "output_type": "display_data"
    },
    {
     "name": "stdout",
     "output_type": "stream",
     "text": [
      "Train Class imbalance: [0.81 0.19]\n"
     ]
    }
   ],
   "source": [
    "values_val, counts_val = np.unique(y_val, return_counts=True)\n",
    "normalized_counts_val = counts_val/counts_val.sum()\n",
    "\n",
    "plt.figure(figsize=(4,4))\n",
    "plt.bar([\"0\", \"1\"], normalized_counts_train*100) # plot normalized counts\n",
    "\n",
    "#Format training data bar chart\n",
    "plt.title('y_val Data Balance')\n",
    "plt.xlabel('Review Rating')\n",
    "plt.ylabel('% of Reviews')\n",
    "plt.show()\n",
    "\n",
    "print(f\"Train Class imbalance: {np.round(normalized_counts_val, 2)}\")"
   ]
  },
  {
   "cell_type": "markdown",
   "id": "5d997b04",
   "metadata": {},
   "source": [
    "----\n",
    "<a id='Step-3'></a>\n",
    "## 3. Baseline Logistic Regression\n",
    "----\n",
    "This is first application of logistic regression to the data and get a better undrestanding of the coefficients. "
   ]
  },
  {
   "cell_type": "code",
   "execution_count": 9,
   "id": "00addd51",
   "metadata": {
    "scrolled": true
   },
   "outputs": [
    {
     "name": "stdout",
     "output_type": "stream",
     "text": [
      "Train Set Accuracy: 0.8117850084894369\n",
      "Test Set Accuracy: 0.8114005789356491\n"
     ]
    }
   ],
   "source": [
    "# Fitting the logistic model\n",
    "LR_model = LogisticRegression()\n",
    "LR_model.fit(X_train2, y_train2)\n",
    "\n",
    "# Evaluate its classification accuracy (Just on the training set for now)\n",
    "print(f\"Train Set Accuracy: {LR_model.score(X_train2, y_train2)}\")\n",
    "print(f\"Test Set Accuracy: {LR_model.score(X_val, y_val)}\")"
   ]
  },
  {
   "cell_type": "markdown",
   "id": "56972f18",
   "metadata": {},
   "source": [
    "**Comment:** This looks good for an initial test. However, beause the data is imbalanced the accuracy score mirrors the percentage of non-fatal accidents.The good news is the model isn't overfitting. \n",
    "Next the coefficient values are examined by creating a dataframe and appending the coefficients to the feature names. "
   ]
  },
  {
   "cell_type": "markdown",
   "id": "3d651fa3",
   "metadata": {},
   "source": [
    "<a id='coef'></a>\n",
    "### Coefficient Analysis "
   ]
  },
  {
   "cell_type": "code",
   "execution_count": 10,
   "id": "7e079d2d",
   "metadata": {
    "scrolled": true
   },
   "outputs": [
    {
     "data": {
      "text/html": [
       "<div>\n",
       "<style scoped>\n",
       "    .dataframe tbody tr th:only-of-type {\n",
       "        vertical-align: middle;\n",
       "    }\n",
       "\n",
       "    .dataframe tbody tr th {\n",
       "        vertical-align: top;\n",
       "    }\n",
       "\n",
       "    .dataframe thead th {\n",
       "        text-align: right;\n",
       "    }\n",
       "</style>\n",
       "<table border=\"1\" class=\"dataframe\">\n",
       "  <thead>\n",
       "    <tr style=\"text-align: right;\">\n",
       "      <th></th>\n",
       "      <th>Coefficients</th>\n",
       "    </tr>\n",
       "    <tr>\n",
       "      <th>Features</th>\n",
       "      <th></th>\n",
       "    </tr>\n",
       "  </thead>\n",
       "  <tbody>\n",
       "    <tr>\n",
       "      <th>wx_cond_basic</th>\n",
       "      <td>0.003031</td>\n",
       "    </tr>\n",
       "    <tr>\n",
       "      <th>med_crtf_vldty</th>\n",
       "      <td>0.001196</td>\n",
       "    </tr>\n",
       "    <tr>\n",
       "      <th>phase_flt_spec</th>\n",
       "      <td>0.000989</td>\n",
       "    </tr>\n",
       "    <tr>\n",
       "      <th>wind_dir_deg</th>\n",
       "      <td>0.000308</td>\n",
       "    </tr>\n",
       "    <tr>\n",
       "      <th>ev_month</th>\n",
       "      <td>0.000266</td>\n",
       "    </tr>\n",
       "  </tbody>\n",
       "</table>\n",
       "</div>"
      ],
      "text/plain": [
       "                Coefficients\n",
       "Features                    \n",
       "wx_cond_basic       0.003031\n",
       "med_crtf_vldty      0.001196\n",
       "phase_flt_spec      0.000989\n",
       "wind_dir_deg        0.000308\n",
       "ev_month            0.000266"
      ]
     },
     "execution_count": 10,
     "metadata": {},
     "output_type": "execute_result"
    }
   ],
   "source": [
    "feature_names = pd.DataFrame(ntsb08.columns, columns=['Features'])\n",
    "log_coef = pd.DataFrame(np.transpose(LR_model.coef_), columns = ['Coefficients'])\n",
    "coefficients = pd.concat([feature_names, log_coef], axis=1)\n",
    "coefficients = coefficients.set_index(coefficients.columns[0])\n",
    "coefficients.sort_values(by='Coefficients', ascending=False).head()"
   ]
  },
  {
   "cell_type": "code",
   "execution_count": 11,
   "id": "c7286844",
   "metadata": {
    "scrolled": true
   },
   "outputs": [
    {
     "data": {
      "image/png": "[encoded data removed]",
      "text/plain": [
       "<Figure size 720x720 with 1 Axes>"
      ]
     },
     "metadata": {
      "needs_background": "light"
     },
     "output_type": "display_data"
    }
   ],
   "source": [
    "#Visualize \n",
    "coefficients.sort_values(by='Coefficients', ascending=False).head(20).plot(kind=\"barh\", figsize=(10, 10),\n",
    "                                                                           legend=False)\n",
    "plt.title(\"Top 20 Highest Coefficients Indicating Fatal Accidents\")\n",
    "plt.ylabel(\"Coefficients\")\n",
    "plt.xticks(rotation=45)\n",
    "plt.show() #increase chance of crash"
   ]
  },
  {
   "cell_type": "markdown",
   "id": "2bf65f6f",
   "metadata": {},
   "source": [
    "**Comment:** From the bar graph, the coefficients themselves are very low; even for the highest indicators of fatal/non-fatal accidents. The factors increasing the likelihood of a fatal accident are:\n",
    "1. The basic weather conditions (instrument conditions, visual conditions, )\n",
    "2. If the pilot was in posession of a valid medical certificate\n",
    "3. The phase of flight\n",
    "4. Wind direction \n",
    "5. Month the event took place"
   ]
  },
  {
   "cell_type": "code",
   "execution_count": 12,
   "id": "6ee5f808",
   "metadata": {
    "scrolled": false
   },
   "outputs": [
    {
     "data": {
      "image/png": "[encoded data removed]",
      "text/plain": [
       "<Figure size 720x720 with 1 Axes>"
      ]
     },
     "metadata": {
      "needs_background": "light"
     },
     "output_type": "display_data"
    }
   ],
   "source": [
    "coefficients.sort_values(by='Coefficients', ascending=True).head(20).plot(kind=\"barh\", \n",
    "                        figsize=(10, 10), legend=False)\n",
    "plt.title(\"Top 20 Highest Coefficients Indicating Non-Fatal Accident\")\n",
    "plt.ylabel(\"Coefficients\")\n",
    "plt.xticks(rotation=45)\n",
    "plt.show()"
   ]
  },
  {
   "cell_type": "markdown",
   "id": "654c5e69",
   "metadata": {},
   "source": [
    "**Comment:** From the bar graph, the coefficients themselves are very low; even for the highest indicators of fatal/non-fatal accidents. The factors increasing the likelihood of a non-fatal accident are:\n",
    "1. Visibility (sm)\n",
    "2. Temperature\n",
    "3. Number of seats\n",
    "4. Year of the event\n",
    "5. Occured on or Off airport "
   ]
  },
  {
   "cell_type": "markdown",
   "id": "8bffdd34",
   "metadata": {},
   "source": [
    "---\n",
    "<a id='Step-4'></a>\n",
    "## 4. Transform Data\n",
    "----\n",
    "<a id='scaling'></a>\n",
    "### Scaling\n",
    "While a majority of the features were categorical and binarized, some of the features are dates, weights, and distances meaning they are on substantially different scales. Scaling normalizes the range of the features so the model considers them on the same scale. The common scalers are the StandardScaler and the MinMaxScaler. MinMax scales everything between 0 and 1, and is not appropriate for this dataset. The StandardScaler is the only scaler used in this project. "
   ]
  },
  {
   "cell_type": "code",
   "execution_count": 13,
   "id": "e0d9e617",
   "metadata": {},
   "outputs": [],
   "source": [
    "#instantiate scaler\n",
    "scaler = StandardScaler()\n",
    "#fit scaler\n",
    "scaler.fit(X_train2)\n",
    "\n",
    "#scale data\n",
    "X_scale = scaler.transform(X_train2)\n",
    "X_sval = scaler.transform(X_val)"
   ]
  },
  {
   "cell_type": "markdown",
   "id": "bad3875b",
   "metadata": {},
   "source": [
    "#### Refit Model on Scaled Data"
   ]
  },
  {
   "cell_type": "code",
   "execution_count": 14,
   "id": "eddadb92",
   "metadata": {
    "scrolled": true
   },
   "outputs": [
    {
     "name": "stdout",
     "output_type": "stream",
     "text": [
      "Train Set Accuracy: 0.9616166114621315\n",
      "Test Set Accuracy: 0.6429525718102872\n"
     ]
    }
   ],
   "source": [
    "#Logistic Regresstion on Scaled Data\n",
    "LR_scale = LogisticRegression(random_state=7)\n",
    "\n",
    "#Fit to PCA data\n",
    "LR_scale.fit(X_scale, y_train2)\n",
    "\n",
    "# Evaluate its classification accuracy\n",
    "print(f\"Train Set Accuracy: {LR_scale.score(X_scale, y_train2)}\")\n",
    "print(f\"Test Set Accuracy: {LR_model.score(X_sval, y_val)}\")"
   ]
  },
  {
   "cell_type": "markdown",
   "id": "09a03455",
   "metadata": {},
   "source": [
    "**Comment:** The model is overfitting by a substantial amount and is indicated by the very high accuracy score on the training data set and the 30% lower accuracy score on the validation data. "
   ]
  },
  {
   "cell_type": "markdown",
   "id": "3cff3fcc",
   "metadata": {},
   "source": [
    "<a id='pca'></a>\n",
    "### Principal Component Analysis (PCA)\n",
    "PCA reduces the dimensionality of the dataset and is applied after the data is scaled. PCA is optimized through n_components, or the number of principal components features are condensed down to. PCA helps with collinearity issue in this project, but it is unclear how features or which features are used or grouped together. "
   ]
  },
  {
   "cell_type": "code",
   "execution_count": 15,
   "id": "198ed071",
   "metadata": {},
   "outputs": [],
   "source": [
    "# Instantiate & fit PCA model to data\n",
    "# Default n_components will generate the same number of PCs as you have features \n",
    "PCA1 = PCA()\n",
    "PCA1.fit(X_scale)\n",
    "\n",
    "# transform data \n",
    "X_train_PCA = PCA1.transform(X_scale)\n",
    "X_val_PCA = PCA1.transform(X_sval)"
   ]
  },
  {
   "cell_type": "code",
   "execution_count": 16,
   "id": "8fd82406",
   "metadata": {
    "scrolled": false
   },
   "outputs": [
    {
     "name": "stdout",
     "output_type": "stream",
     "text": [
      "X_train2 Shape: (35927, 10472)\n",
      "X_train_PCA Shape: (35927, 10472)\n"
     ]
    }
   ],
   "source": [
    "print('X_train2 Shape:', X_train2.shape)\n",
    "print('X_train_PCA Shape:', X_train_PCA.shape)"
   ]
  },
  {
   "cell_type": "markdown",
   "id": "5e6a03e6",
   "metadata": {},
   "source": [
    "**Comment:** The default PCA will use the same number of PCs as the number of features. This is reflected in the same dataframe shape. "
   ]
  },
  {
   "cell_type": "markdown",
   "id": "f03e7b59",
   "metadata": {},
   "source": [
    "#### Refit Model with Initial PCA Transformation"
   ]
  },
  {
   "cell_type": "code",
   "execution_count": 17,
   "id": "95869675",
   "metadata": {},
   "outputs": [
    {
     "name": "stdout",
     "output_type": "stream",
     "text": [
      "Train Set Accuracy: 0.9616166114621315\n",
      "Test Set Accuracy: 0.9172790024493431\n"
     ]
    }
   ],
   "source": [
    "# Instantiate\n",
    "LR_PCA = LogisticRegression()\n",
    "\n",
    "# Fit\n",
    "LR_PCA.fit(X_train_PCA, y_train2)\n",
    "\n",
    "# Score \n",
    "print(f\"Train Set Accuracy: {LR_PCA.score(X_train_PCA, y_train2)}\")\n",
    "print(f\"Test Set Accuracy: {LR_PCA.score(X_val_PCA, y_val)}\")"
   ]
  },
  {
   "cell_type": "markdown",
   "id": "ce324cae",
   "metadata": {},
   "source": [
    "**Comment:** However, despite the lack of shape change the accuracy is greatly improved. With a 5% higher accuracy rate on the training data, it is overfitting but not by a lot."
   ]
  },
  {
   "cell_type": "markdown",
   "id": "4fcb9807",
   "metadata": {},
   "source": [
    "#### PCA Transformation for 90% of Variance"
   ]
  },
  {
   "cell_type": "code",
   "execution_count": 18,
   "id": "77dd4542",
   "metadata": {},
   "outputs": [],
   "source": [
    "# Lets say we want to keep 90% of the variance\n",
    "PCA2 = PCA(n_components = 0.9, random_state=5)\n",
    "PCA2.fit(X_train2)\n",
    "\n",
    "# Transform train and test\n",
    "X_train_PCA2 = PCA2.transform(X_train2)\n",
    "X_test_PCA2 = PCA2.transform(X_val)"
   ]
  },
  {
   "cell_type": "code",
   "execution_count": 19,
   "id": "b83635c0",
   "metadata": {
    "scrolled": true
   },
   "outputs": [
    {
     "name": "stdout",
     "output_type": "stream",
     "text": [
      "Original: (35927, 10472)\n",
      "PCA Transformed: (35927, 2)\n"
     ]
    }
   ],
   "source": [
    "print(f'Original: {X_train2.shape}')\n",
    "print(f'PCA Transformed: {X_train_PCA2.shape}')"
   ]
  },
  {
   "cell_type": "markdown",
   "id": "d299dae2",
   "metadata": {},
   "source": [
    "**Comment:** here the PCs were set to obtain a 90% variance rate. From the transformed dataset shape, 90% of the variance was captured in two PCs. "
   ]
  },
  {
   "cell_type": "markdown",
   "id": "5c1a246f",
   "metadata": {},
   "source": [
    "#### Refit Model with Secondary PCA Transformation"
   ]
  },
  {
   "cell_type": "code",
   "execution_count": 20,
   "id": "d25abc23",
   "metadata": {
    "scrolled": true
   },
   "outputs": [
    {
     "name": "stdout",
     "output_type": "stream",
     "text": [
      "Train Set Accuracy: 0.8119520138057729\n",
      "Test Set Accuracy: 0.8119572478289914\n"
     ]
    }
   ],
   "source": [
    "# Instantiate\n",
    "LR_PCA = LogisticRegression()\n",
    "\n",
    "# Fit\n",
    "LR_PCA.fit(X_train_PCA2, y_train2)\n",
    "\n",
    "# Score \n",
    "print(f\"Train Set Accuracy: {LR_PCA.score(X_train_PCA2, y_train2)}\")\n",
    "print(f\"Test Set Accuracy: {LR_PCA.score(X_test_PCA2, y_val)}\")"
   ]
  },
  {
   "cell_type": "markdown",
   "id": "306253ea",
   "metadata": {},
   "source": [
    "**Comment:** The train and test scores are almost identical. This performance is also similar to the baseline model applied to the original data. So while the performance is not poor, it did not improve either. "
   ]
  },
  {
   "cell_type": "markdown",
   "id": "1ec2b7bf",
   "metadata": {},
   "source": [
    "--------\n",
    "<a id='Step-5'></a>\n",
    "## 5. Hyperparameter Optimization\n",
    "--------\n",
    "Hyperparameters are values set before fitting the data and remain unchanged after fitting the model. These are model regularization parameters within the models, such as the C value in a logistic regression. For this model pipeline, a logistic regression was evaluated on the use of a scalar, different C values, penalties "
   ]
  },
  {
   "cell_type": "code",
   "execution_count": 21,
   "id": "8d45eba1",
   "metadata": {},
   "outputs": [],
   "source": [
    "#we give our estimators as a list of tuples: name:function.\n",
    "estimators = [('normalize', StandardScaler()),\n",
    "             ('dim_reducer', PCA()),\n",
    "             ('model', LogisticRegression())]\n",
    "\n",
    "pipe = Pipeline(estimators)\n",
    "\n",
    "param_grid = [\n",
    "    {\n",
    "        'model': [LogisticRegression()],\n",
    "        'normalize': [StandardScaler(), None],\n",
    "        'dim_reducer': [PCA()],\n",
    "        'model__C': [0.01, 0.1, 1, 10],\n",
    "        'model__penalty': ['l1', 'l2'],\n",
    "        'dim_reducer__n_components': [4, 5, 6]\n",
    "    }\n",
    "]\n",
    "\n",
    "grid = GridSearchCV(pipe, param_grid, cv=5)\n",
    "fittedgrid = grid.fit(X_train2, y_train2)"
   ]
  },
  {
   "cell_type": "code",
   "execution_count": 22,
   "id": "db40d896",
   "metadata": {
    "scrolled": true
   },
   "outputs": [
    {
     "data": {
      "text/plain": [
       "{'dim_reducer': PCA(n_components=4),\n",
       " 'dim_reducer__n_components': 4,\n",
       " 'model': LogisticRegression(C=0.01),\n",
       " 'model__C': 0.01,\n",
       " 'model__penalty': 'l2',\n",
       " 'normalize': StandardScaler()}"
      ]
     },
     "execution_count": 22,
     "metadata": {},
     "output_type": "execute_result"
    }
   ],
   "source": [
    "fittedgrid.best_params_"
   ]
  },
  {
   "cell_type": "markdown",
   "id": "743ac120",
   "metadata": {},
   "source": [
    "##### Apply Best Parameters from the GridSearch"
   ]
  },
  {
   "cell_type": "code",
   "execution_count": 23,
   "id": "467ca50c",
   "metadata": {},
   "outputs": [
    {
     "name": "stdout",
     "output_type": "stream",
     "text": [
      "Train Set Accuracy: 0.8119520138057729\n",
      "Test Set Accuracy: 0.8119572478289914\n"
     ]
    }
   ],
   "source": [
    "# Instantiate & fit PCA model to data\n",
    "# Default n_components will generate the same number of PCs as you have features \n",
    "PCA5 = PCA(n_components = 5, random_state=5)\n",
    "PCA5.fit(X_scale)\n",
    "\n",
    "# transform data \n",
    "X_train_PCA5 = PCA5.transform(X_scale)\n",
    "X_val_PCA5 = PCA5.transform(X_sval)\n",
    "\n",
    "# Instantiate logistic regression\n",
    "LR_PCA5 = LogisticRegression(penalty='l2', C=1, random_state=5)\n",
    "\n",
    "# Fit\n",
    "LR_PCA5.fit(X_train_PCA5, y_train2)\n",
    "\n",
    "# Score \n",
    "print(f\"Train Set Accuracy: {LR_PCA5.score(X_train_PCA5, y_train2)}\")\n",
    "print(f\"Test Set Accuracy: {LR_PCA5.score(X_val_PCA5, y_val)}\")"
   ]
  },
  {
   "cell_type": "markdown",
   "id": "cffaa491",
   "metadata": {},
   "source": [
    "**Comment:** After optimizing the hyperparameters, there is a substantial increase in from using only the PCA transformed data. There is an improvement from the baseline performance of approximately 81% to an accuracy of 87%. The accuracy scores between the training and validation dataset are relatively close so there is no over or underfitting. "
   ]
  },
  {
   "cell_type": "markdown",
   "id": "f403d12c",
   "metadata": {},
   "source": [
    "##### Refit Optimized Model without PCA"
   ]
  },
  {
   "cell_type": "code",
   "execution_count": 24,
   "id": "17cdb3cb",
   "metadata": {},
   "outputs": [
    {
     "name": "stdout",
     "output_type": "stream",
     "text": [
      "Train Set Accuracy: 0.9608094190998413\n",
      "Test Set Accuracy: 0.9359830772656424\n"
     ]
    }
   ],
   "source": [
    "# Instantiate\n",
    "logreg = LogisticRegression(penalty='l2', C=0.01, random_state=7)\n",
    "\n",
    "# Fit\n",
    "logreg.fit(X_scale, y_train2)\n",
    "\n",
    "# Score \n",
    "print(f\"Train Set Accuracy: {logreg.score(X_scale, y_train2)}\")\n",
    "print(f\"Test Set Accuracy: {logreg.score(X_sval, y_val)}\")"
   ]
  },
  {
   "cell_type": "markdown",
   "id": "1d508cf2",
   "metadata": {},
   "source": [
    "**Comment:** Although running an optimized logistic regression without a PCA transformation a higher accuracry, the model is also overfitting. The optimized logistic regression with a PCA transformation should be used. "
   ]
  },
  {
   "cell_type": "markdown",
   "id": "a132f9af",
   "metadata": {},
   "source": [
    "--------\n",
    "<a id='Step-6'></a>\n",
    "## 6. Test Model\n",
    "--------\n",
    "The optimized model with the best results is applied to the full training data and the test data. \n",
    "1. Scale test and train data\n",
    "2. Apply a PCA(n_components=5)\n",
    "4. Run a logistic regression with a L2 penality and C=1\n",
    "5. Evaluate results"
   ]
  },
  {
   "cell_type": "markdown",
   "id": "8b792e64",
   "metadata": {},
   "source": [
    "##### WIth PCA transformation"
   ]
  },
  {
   "cell_type": "code",
   "execution_count": 25,
   "id": "dd3b8ae1",
   "metadata": {},
   "outputs": [
    {
     "name": "stdout",
     "output_type": "stream",
     "text": [
      "Train Set Accuracy: 0.811953060633726\n",
      "Test Set Accuracy: 0.8119706967319582\n"
     ]
    }
   ],
   "source": [
    "#instantiate scaler\n",
    "scaler = StandardScaler()\n",
    "#fit scaler\n",
    "scaler.fit(X_train)\n",
    "\n",
    "#scale data\n",
    "X_scale_full = scaler.transform(X_train)\n",
    "X_scale_test = scaler.transform(X_test)\n",
    "\n",
    "# Instantiate & fit PCA model to data\n",
    "# Default n_components will generate the same number of PCs as you have features \n",
    "PCA_final = PCA(n_components = 5, random_state=5)\n",
    "PCA_final.fit(X_scale)\n",
    "\n",
    "# transform data \n",
    "X_train_PCA = PCA_final.transform(X_scale_full)\n",
    "X_test_PCA = PCA5.transform(X_scale_test)\n",
    "\n",
    "# Instantiate\n",
    "logreg_final = LogisticRegression(penalty='l2', C=1, random_state=5)\n",
    "\n",
    "# Fit\n",
    "logreg_final.fit(X_train_PCA, y_train)\n",
    "\n",
    "# Score \n",
    "print(f\"Train Set Accuracy: {logreg_final.score(X_train_PCA, y_train)}\")\n",
    "print(f\"Test Set Accuracy: {LR_PCA5.score(X_test_PCA, y_test)}\")"
   ]
  },
  {
   "cell_type": "markdown",
   "id": "db965706",
   "metadata": {},
   "source": [
    "##### Without PCA transformation"
   ]
  },
  {
   "cell_type": "code",
   "execution_count": 27,
   "id": "c2398e29",
   "metadata": {},
   "outputs": [
    {
     "name": "stdout",
     "output_type": "stream",
     "text": [
      "Train Set Accuracy: 0.9598076109465808\n",
      "Test Set Accuracy: 0.923624460954954\n"
     ]
    }
   ],
   "source": [
    "#Instantiate\n",
    "logreg = LogisticRegression(penalty='l2', C=1, random_state=7)\n",
    "\n",
    "# Fit\n",
    "logreg.fit(X_scale_full, y_train)\n",
    "\n",
    "# Score \n",
    "print(f\"Train Set Accuracy: {logreg.score(X_scale_full, y_train)}\")\n",
    "print(f\"Test Set Accuracy: {logreg.score(X_scale_test, y_test)}\")"
   ]
  },
  {
   "cell_type": "markdown",
   "id": "8761d05b",
   "metadata": {},
   "source": [
    "**Comment:** The results with a PCA transformation are essentially the same as running the base logistic regression model on the original data. There is an improvement without the use of the PCA transformed data although it should be noted that collinearity could be skewing the results"
   ]
  },
  {
   "cell_type": "markdown",
   "id": "b60a93b8",
   "metadata": {},
   "source": [
    "---\n",
    "<a id='Results'></a>\n",
    "## 7. Results & Summary \n",
    "---\n",
    "In this portion of the project, the first classification model was used. A logistic regression was applied to the original data, transformed data, and then optimized for improved performance. While there was improved performance at various stages in the process, the final results were essentially the same. A second model was run that did not include a PCA transformation and it performed the best with some mild overfitting. The recommendation is proceed without a PCA transformation when running a logistic regression and maintain similar hyperparameters. \n",
    "\n",
    "Model evaluation will only be completed on the final model in Part VI of the capstone project\n",
    "\n",
    "---\n",
    "#### <div align = \"right\">Up Next:</div>\n",
    "<div align = \"right\">Aviation Accident Captson Part IV: Decision Tree Model</div>"
   ]
  }
 ],
 "metadata": {
  "kernelspec": {
   "display_name": "Python 3 (ipykernel)",
   "language": "python",
   "name": "python3"
  },
  "language_info": {
   "codemirror_mode": {
    "name": "ipython",
    "version": 3
   },
   "file_extension": ".py",
   "mimetype": "text/x-python",
   "name": "python",
   "nbconvert_exporter": "python",
   "pygments_lexer": "ipython3",
   "version": "3.9.12"
  }
 },
 "nbformat": 4,
 "nbformat_minor": 5
}
