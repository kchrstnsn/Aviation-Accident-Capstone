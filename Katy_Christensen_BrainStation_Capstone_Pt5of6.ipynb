{
 "cells": [
  {
   "cell_type": "code",
   "execution_count": 1,
   "id": "4445cf9f",
   "metadata": {},
   "outputs": [],
   "source": [
    "#import relevant libraries\n",
    "import numpy as np\n",
    "import pandas as pd\n",
    "import matplotlib.pyplot as plt\n",
    "\n",
    "%matplotlib inline\n",
    "\n",
    "from sklearn.pipeline import Pipeline\n",
    "from sklearn.model_selection import GridSearchCV\n",
    "\n",
    "from sklearn.model_selection import train_test_split\n",
    "from sklearn.decomposition import PCA\n",
    "from sklearn.preprocessing import StandardScaler\n",
    "from sklearn.neighbors import KNeighborsClassifier\n",
    "\n",
    "import warnings\n",
    "warnings.filterwarnings('ignore')"
   ]
  },
  {
   "cell_type": "markdown",
   "id": "88d04552",
   "metadata": {},
   "source": [
    "# Aviation Accident Capstone:\n",
    "## *Part V: K-Nearest Neighbor (KNN) Model*\n",
    "Created by: Katy Christensen <br>\n",
    "Created on: September 26, 2022 <br>\n",
    "Created for: BrainStation Data Science Bootcamp Capstone<br>\n",
    "Notebook 5 of 6<br>\n",
    "\n",
    "Previous Notebook: *Part IV: Decision Tree Model* <br>\n",
    "\n",
    "----\n",
    "### Introduction\n",
    "The final classification model tested is the KNN model which utilizes non-linear decision boundaries. KNN models do not handle categorical data even after dummy variable encoding due to the sensitivty to distance. Dummy variable encoding can lead to the model inferring inter-category or inter-feature when there may not be. Another drawback to KNN models is they are unable to predic values outside of the training set range. \n",
    "\n",
    "### Process \n",
    "Similar to the other models tested, the following steps will be taken when applying the KNN model to the NTSB data:\n",
    "1. Load Data\n",
    "2. Split Data\n",
    "3. Model on Original Data\n",
    "4. Optimize Model \n",
    "5. Fit Optimized Model to Train-Test Dat\n",
    "\n",
    "----"
   ]
  },
  {
   "cell_type": "markdown",
   "id": "275d523b",
   "metadata": {},
   "source": [
    "## Table of Contents\n",
    "[1. Load Data & Review](#Step-1) <br>\n",
    "[2. Split Data](#Step-2) <br>\n",
    "- [Train-Test Split](#train-test) <br>\n",
    "- [Train-Validation SPlit](#val-split) <br>\n",
    "\n",
    "[3. Baseline KNN Model](#Step-3) <br>\n",
    "[4. Model Optimization](#Step-4) <br>\n",
    "- [Model - Scaled Data](#scaled) <br>\n",
    "- [Hyperparameter Optimization](#hp-tune) <br>\n",
    "- [Model Tuning](#model-tune) <br>\n",
    "\n",
    "[5. Final Model](#Step-5) <br>\n",
    "[6. Results & Summary](#Results) <br>"
   ]
  },
  {
   "cell_type": "markdown",
   "id": "ef81783d",
   "metadata": {},
   "source": [
    "----\n",
    "<a id='Step-1'></a>\n",
    "## 1. Load Data & Review\n",
    "----"
   ]
  },
  {
   "cell_type": "code",
   "execution_count": 2,
   "id": "3b3cef45",
   "metadata": {},
   "outputs": [],
   "source": [
    "ntsb08 = pd.read_csv('data/ntsb08_model.csv')"
   ]
  },
  {
   "cell_type": "code",
   "execution_count": 3,
   "id": "0d611821",
   "metadata": {},
   "outputs": [],
   "source": [
    "X = ntsb08.drop(columns='ev_highest_injury')\n",
    "y = ntsb08['ev_highest_injury']"
   ]
  },
  {
   "cell_type": "code",
   "execution_count": 4,
   "id": "1fbbed15",
   "metadata": {},
   "outputs": [
    {
     "data": {
      "text/plain": [
       "(64156, 10472)"
      ]
     },
     "execution_count": 4,
     "metadata": {},
     "output_type": "execute_result"
    }
   ],
   "source": [
    "X.shape"
   ]
  },
  {
   "cell_type": "markdown",
   "id": "de36c556",
   "metadata": {},
   "source": [
    "---\n",
    "<a id='Step-2'></a>\n",
    "## 2. Split the Data\n",
    "---\n",
    "<a id='test-split'></a>\n",
    "### Train-Test Split"
   ]
  },
  {
   "cell_type": "code",
   "execution_count": 5,
   "id": "60b943a2",
   "metadata": {},
   "outputs": [],
   "source": [
    "#Split the test into train (70%) and test (30%)\n",
    "X_train, X_test, y_train, y_test = train_test_split(X, y, test_size=0.3, random_state=6, stratify=y)"
   ]
  },
  {
   "cell_type": "code",
   "execution_count": 6,
   "id": "a84c5077",
   "metadata": {},
   "outputs": [
    {
     "name": "stdout",
     "output_type": "stream",
     "text": [
      "X_train shape: (44909, 10472)\n",
      "X_test shape: (19247, 10472)\n"
     ]
    }
   ],
   "source": [
    "print('X_train shape:', X_train.shape)\n",
    "print('X_test shape:', X_test.shape)"
   ]
  },
  {
   "cell_type": "markdown",
   "id": "b4cd5f32",
   "metadata": {},
   "source": [
    "<a id='val-split'></a>\n",
    "### Train-Validation Split"
   ]
  },
  {
   "cell_type": "code",
   "execution_count": 7,
   "id": "b74fe8c7",
   "metadata": {},
   "outputs": [],
   "source": [
    "#Split the test into train (80%) and test (20%)\n",
    "X_train2, X_val, y_train2, y_val = train_test_split(X_train, y_train, test_size=0.2, \n",
    "                                                    random_state=12, stratify=y_train)"
   ]
  },
  {
   "cell_type": "code",
   "execution_count": 8,
   "id": "52f00990",
   "metadata": {},
   "outputs": [
    {
     "name": "stdout",
     "output_type": "stream",
     "text": [
      "X_train2 shape: (35927, 10472)\n",
      "X_val shape: (8982, 10472)\n"
     ]
    }
   ],
   "source": [
    "print('X_train2 shape:', X_train2.shape)\n",
    "print('X_val shape:', X_val.shape)"
   ]
  },
  {
   "cell_type": "markdown",
   "id": "01fddb9a",
   "metadata": {},
   "source": [
    "---\n",
    "<a id='Step-3'></a>\n",
    "## 3. Baseline KNN Model\n",
    "---\n",
    "Running the default on the original data, the nearest neighbors (n_neighbors) value of 5 was used and the model was overfitting since the accuracy on the training data is 83% and the accuracy on the validation dataset is 79%. "
   ]
  },
  {
   "cell_type": "code",
   "execution_count": 9,
   "id": "d874a722",
   "metadata": {
    "scrolled": false
   },
   "outputs": [
    {
     "name": "stdout",
     "output_type": "stream",
     "text": [
      "Number of neighbors: 5\n",
      "Train accuracy: 0.8295432404598213\n",
      "Test accuracy: 0.7856824760632376\n"
     ]
    }
   ],
   "source": [
    "# Instantiate the model & fit it to our data\n",
    "KNN_base = KNeighborsClassifier()\n",
    "KNN_base.fit(X_train2, y_train2)\n",
    "\n",
    "# Score the model on the test set\n",
    "print(\"Number of neighbors:\", KNN_base.n_neighbors)\n",
    "print(\"Train accuracy:\", KNN_base.score(X_train2, y_train2))\n",
    "print(\"Test accuracy:\", KNN_base.score(X_val, y_val))"
   ]
  },
  {
   "cell_type": "markdown",
   "id": "8fef48ed",
   "metadata": {},
   "source": [
    "---\n",
    "<a id='Step-4'></a>\n",
    "## 4. Model Optimization\n",
    "---\n",
    "<a id='scaled'></a>\n",
    "### KNN - Scaled Data\n",
    "Since KNN is distance sensitive, the data is scaled and the KNN model was rerun on the scaled data. "
   ]
  },
  {
   "cell_type": "code",
   "execution_count": 10,
   "id": "548d1c10",
   "metadata": {},
   "outputs": [],
   "source": [
    "#Scale Data\n",
    "scaler = StandardScaler()\n",
    "scaler.fit(X_train2)\n",
    "\n",
    "X_scale = scaler.transform(X_train2)\n",
    "X_sval = scaler.transform(X_val)"
   ]
  },
  {
   "cell_type": "code",
   "execution_count": 11,
   "id": "7edae91d",
   "metadata": {},
   "outputs": [
    {
     "name": "stdout",
     "output_type": "stream",
     "text": [
      "Number of neighbors: 5\n",
      "Train accuracy: 0.8364461268683719\n",
      "Test accuracy: 0.8042752171008684\n"
     ]
    }
   ],
   "source": [
    "# Instantiate the model & fit it to our data\n",
    "KNN_scale = KNeighborsClassifier()\n",
    "KNN_scale.fit(X_scale, y_train2)\n",
    "\n",
    "# Score the model on the test set\n",
    "print(\"Number of neighbors:\", KNN_scale.n_neighbors)\n",
    "print(\"Train accuracy:\", KNN_scale.score(X_scale, y_train2))\n",
    "print(\"Test accuracy:\", KNN_scale.score(X_sval, y_val))"
   ]
  },
  {
   "cell_type": "markdown",
   "id": "1e91466c",
   "metadata": {},
   "source": [
    "**Comment:** The performance overall is a higher accuracy with a train accuracy score of 85% and test accuracy score of 81%, but the model is still overfitting. "
   ]
  },
  {
   "cell_type": "markdown",
   "id": "d5373693",
   "metadata": {},
   "source": [
    "<a id='hp-tune'></a>\n",
    "### Hyperparameter Optimization\n",
    "Hyperparameters of high interest in KNN models are `n_neighbors` and defines the number of nearest neighbors that define a set. `weights` is the other hyperparameter and will alter the value of a point based on distance. The default for these hyperparameters are 5 and *uniform* by default. Of interest in this project is the `n_neighbors` hyperparameter and was the only hyperparameter optimized. "
   ]
  },
  {
   "cell_type": "code",
   "execution_count": 12,
   "id": "2ed9fbba",
   "metadata": {
    "scrolled": true
   },
   "outputs": [
    {
     "name": "stdout",
     "output_type": "stream",
     "text": [
      "Working on my model with 19 neighbors...\r"
     ]
    }
   ],
   "source": [
    "neighbors = range(1, 21, 2) \n",
    "# range is a list iterator\n",
    "# X_train.shape[0] = working in the first dimension of the array\n",
    "#2 = step size so only odd numbers show up\n",
    "\n",
    "train_acc = []\n",
    "test_acc = []\n",
    "\n",
    "for n in neighbors: \n",
    "    print(f\"Working on my model with {n} neighbors...\", end=\"\\r\")\n",
    "    \n",
    "    #Instantiate and Fit\n",
    "    KNN_model = KNeighborsClassifier(n_neighbors=n)\n",
    "    KNN_model.fit(X_scale, y_train2)\n",
    "    \n",
    "    #Score the model\n",
    "    train_accuracy = KNN_model.score(X_scale, y_train2)\n",
    "    test_accuracy = KNN_model.score(X_sval, y_val)\n",
    "    \n",
    "    #Append my accuracy\n",
    "    train_acc.append(train_accuracy)\n",
    "    test_acc.append(test_accuracy)"
   ]
  },
  {
   "cell_type": "code",
   "execution_count": 13,
   "id": "bf88b673",
   "metadata": {
    "scrolled": false
   },
   "outputs": [
    {
     "data": {
      "image/png": "[encoded data removed]",
      "text/plain": [
       "<Figure size 720x504 with 1 Axes>"
      ]
     },
     "metadata": {
      "needs_background": "light"
     },
     "output_type": "display_data"
    }
   ],
   "source": [
    "#plot the graph\n",
    "plt.figure(figsize=(10,7))\n",
    "plt.plot(neighbors, test_acc, color=\"red\", label=\"test\")\n",
    "plt.plot(neighbors, train_acc, color=\"blue\", label=\"train\")\n",
    "plt.ylabel(\"Accuracy Score\")\n",
    "plt.xlabel(\"Number of neighbors\")\n",
    "plt.title(\"KNN Graph\")\n",
    "plt.legend()\n",
    "plt.show()"
   ]
  },
  {
   "cell_type": "markdown",
   "id": "e9e7b9af",
   "metadata": {},
   "source": [
    "**Comment:** For k-values (variable for n_neighbors) below 6 the train data is siginificantly overfitting. Best k-values are when the train and test accuracy are close and the test accuracy remains below the training accuraracy. An optimal k-values balances the best accuracy while also minimizing the difference between the training and test accuracy. Using the NumPy `argmax`, the optimal k-value can be determined (see below)."
   ]
  },
  {
   "cell_type": "code",
   "execution_count": 14,
   "id": "a7bfecab",
   "metadata": {},
   "outputs": [
    {
     "name": "stdout",
     "output_type": "stream",
     "text": [
      "Best KNN k value: 13\n"
     ]
    }
   ],
   "source": [
    "#index value that is the largest in the test accuracy\n",
    "index_of_max = np.argmax(test_acc)\n",
    "\n",
    "#the corresponding coordinate k value\n",
    "best_k = neighbors[index_of_max]\n",
    "print(f'Best KNN k value: {best_k}')"
   ]
  },
  {
   "cell_type": "markdown",
   "id": "eb9131b8",
   "metadata": {},
   "source": [
    "k = 13 is returns the best KNN model results. This k-value will be used when refitting the KNN model to the scaled data. "
   ]
  },
  {
   "cell_type": "code",
   "execution_count": 15,
   "id": "0d4abc0a",
   "metadata": {},
   "outputs": [
    {
     "name": "stdout",
     "output_type": "stream",
     "text": [
      "Train accuracy: 0.8364461268683719\n",
      "Test accuracy: 0.8042752171008684\n"
     ]
    }
   ],
   "source": [
    "# Instantiate the model & fit it to our data\n",
    "KNN_scale2 = KNeighborsClassifier(n_neighbors=13)\n",
    "KNN_scale2.fit(X_scale, y_train2)\n",
    "\n",
    "# Score the model on the test set\n",
    "print(\"Train accuracy:\", KNN_scale.score(X_scale, y_train2))\n",
    "print(\"Test accuracy:\", KNN_scale.score(X_sval, y_val))"
   ]
  },
  {
   "cell_type": "markdown",
   "id": "fc2971dc",
   "metadata": {},
   "source": [
    "**Comment:** The results did not change very much, using a pipeline a combination of transformations and hyperparameter tuning can be tested. The pipeline will evaluate model performance when the data is scaled, a PCA transformation is applied, and the use of different k-values. "
   ]
  },
  {
   "cell_type": "markdown",
   "id": "d3609f09",
   "metadata": {},
   "source": [
    "<a id='model-tune'></a>\n",
    "### Model Tuning"
   ]
  },
  {
   "cell_type": "code",
   "execution_count": 32,
   "id": "b9aa5d46",
   "metadata": {},
   "outputs": [],
   "source": [
    "# Create placeholders for the three steps of scaling, dimention reduction, and model\n",
    "estimators = [\n",
    "    ('scaler', StandardScaler()),\n",
    "    ('model', KNeighborsClassifier())\n",
    "]\n",
    "model_pipe = Pipeline(estimators)\n",
    "param_grid = [\n",
    "    {\n",
    "        'scaler': [StandardScaler()],\n",
    "        'model': [KNeighborsClassifier()],\n",
    "        'model__n_neighbors': [5, 7, 9, 13],\n",
    "    }\n",
    "]\n",
    "\n",
    "grid = GridSearchCV(model_pipe, param_grid, cv=5)\n",
    "gridsearch = grid.fit(X_train2, y_train2)   "
   ]
  },
  {
   "cell_type": "code",
   "execution_count": 33,
   "id": "26e09e5e",
   "metadata": {
    "scrolled": true
   },
   "outputs": [
    {
     "data": {
      "text/plain": [
       "{'model': KNeighborsClassifier(n_neighbors=13),\n",
       " 'model__n_neighbors': 13,\n",
       " 'scaler': StandardScaler()}"
      ]
     },
     "execution_count": 33,
     "metadata": {},
     "output_type": "execute_result"
    }
   ],
   "source": [
    "gridsearch.best_params_"
   ]
  },
  {
   "cell_type": "code",
   "execution_count": 22,
   "id": "53e1894c",
   "metadata": {},
   "outputs": [
    {
     "name": "stdout",
     "output_type": "stream",
     "text": [
      "Train accuracy: 0.8128148746068417\n",
      "Test accuracy: 0.8087285682476063\n"
     ]
    }
   ],
   "source": [
    "# Instantiate the model & fit it to our data\n",
    "KNN_scale = KNeighborsClassifier(n_neighbors=13)\n",
    "KNN_scale.fit(X_train_PCA, y_train2)\n",
    "\n",
    "# Score the model on the test set\n",
    "print(\"Train accuracy:\", KNN_scale.score(X_train_PCA, y_train2))\n",
    "print(\"Test accuracy:\", KNN_scale.score(X_val_PCA, y_val))"
   ]
  },
  {
   "cell_type": "markdown",
   "id": "ebb356df",
   "metadata": {},
   "source": [
    "---\n",
    "<a id='Step-5'></a>\n",
    "## 5. Final Model\n",
    "---\n",
    "Taking into consideration the results from the model optimization steps taken the best parameters are utilized and then the final model is run against the scaled original training data and the test data."
   ]
  },
  {
   "cell_type": "code",
   "execution_count": 23,
   "id": "ad543fb2",
   "metadata": {},
   "outputs": [],
   "source": [
    "# Scale data\n",
    "scaler = StandardScaler()\n",
    "scaler.fit(X_train)\n",
    "\n",
    "X_scale_full = scaler.transform(X_train)\n",
    "X_scale_test = scaler.transform(X_test)"
   ]
  },
  {
   "cell_type": "code",
   "execution_count": 31,
   "id": "fd51d88b",
   "metadata": {},
   "outputs": [
    {
     "name": "stdout",
     "output_type": "stream",
     "text": [
      "Train accuracy: 0.8161615711772696\n",
      "Test accuracy: 0.8123343897750299\n"
     ]
    }
   ],
   "source": [
    "# Instantiate the model & fit to data\n",
    "KNN_final = KNeighborsClassifier(n_neighbors=13)\n",
    "KNN_final.fit(X_scale_full, y_train)\n",
    "\n",
    "# Score the model on the test set\n",
    "print(\"Train accuracy:\", KNN_final.score(X_scale_full, y_train))\n",
    "print(\"Test accuracy:\", KNN_final.score(X_scale_test, y_test))"
   ]
  },
  {
   "cell_type": "markdown",
   "id": "616391ac",
   "metadata": {},
   "source": [
    "---\n",
    "<a id='Results'></a>\n",
    "## 6. Results & Summary \n",
    "---\n",
    "In this portion of the project, a KNN model was applied and optimized on the `n_neighbors` hyperparameter. The final k value used was 13 and the data was scaled for the best performance. After initial trial-and-error, PCA transformation was not included as it did not seem to affect the model. \n",
    "The final model performed below the initial baseline model, however it no longer overfits so the model performance did improve overall. \n",
    "\n",
    "---\n",
    "#### <div align = \"right\">Up Next:</div>\n",
    "<div align = \"right\">Aviation Accident Captson Part VI: Model Selection & Evaluation</div>"
   ]
  }
 ],
 "metadata": {
  "kernelspec": {
   "display_name": "Python 3 (ipykernel)",
   "language": "python",
   "name": "python3"
  },
  "language_info": {
   "codemirror_mode": {
    "name": "ipython",
    "version": 3
   },
   "file_extension": ".py",
   "mimetype": "text/x-python",
   "name": "python",
   "nbconvert_exporter": "python",
   "pygments_lexer": "ipython3",
   "version": "3.9.12"
  }
 },
 "nbformat": 4,
 "nbformat_minor": 5
}
